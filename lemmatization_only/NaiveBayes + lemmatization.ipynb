{
 "cells": [
  {
   "cell_type": "code",
   "execution_count": 2,
   "id": "900368cb",
   "metadata": {},
   "outputs": [],
   "source": [
    "import pickle\n",
    "import pandas as pd\n",
    "\n",
    "\n",
    "from sklearn.feature_extraction.text import TfidfVectorizer, CountVectorizer\n",
    "from sklearn.naive_bayes import MultinomialNB\n",
    "from sklearn.model_selection import train_test_split\n",
    "from sklearn import metrics\n",
    "from sklearn.metrics import classification_report\n",
    "from sklearn.pipeline import Pipeline\n",
    "\n",
    "import spacy\n",
    "nlp = spacy.load('en_core_web_sm')"
   ]
  },
  {
   "cell_type": "code",
   "execution_count": 3,
   "id": "71afb8af",
   "metadata": {},
   "outputs": [],
   "source": [
    "def text_preprocessor(text: str):\n",
    "    doc = nlp(text)\n",
    "    tokens = [ i.lemma_ for i in doc]   \n",
    "    text = \" \".join(tokens) \n",
    "    return text"
   ]
  },
  {
   "cell_type": "code",
   "execution_count": 5,
   "id": "ed519935",
   "metadata": {},
   "outputs": [],
   "source": [
    "with open('../dataset_raw.pickle', 'rb') as handle:\n",
    "    data = pickle.load(handle)"
   ]
  },
  {
   "cell_type": "code",
   "execution_count": 6,
   "id": "e65a2551",
   "metadata": {},
   "outputs": [],
   "source": [
    "data = pd.DataFrame.from_dict(data)"
   ]
  },
  {
   "cell_type": "code",
   "execution_count": 7,
   "id": "510170af",
   "metadata": {},
   "outputs": [
    {
     "data": {
      "text/html": [
       "<div>\n",
       "<style scoped>\n",
       "    .dataframe tbody tr th:only-of-type {\n",
       "        vertical-align: middle;\n",
       "    }\n",
       "\n",
       "    .dataframe tbody tr th {\n",
       "        vertical-align: top;\n",
       "    }\n",
       "\n",
       "    .dataframe thead th {\n",
       "        text-align: right;\n",
       "    }\n",
       "</style>\n",
       "<table border=\"1\" class=\"dataframe\">\n",
       "  <thead>\n",
       "    <tr style=\"text-align: right;\">\n",
       "      <th></th>\n",
       "      <th>example</th>\n",
       "      <th>category</th>\n",
       "    </tr>\n",
       "  </thead>\n",
       "  <tbody>\n",
       "    <tr>\n",
       "      <th>0</th>\n",
       "      <td>But when we reached Shanghai, I felt so terrif...</td>\n",
       "      <td>№1 ЛСВ 1 осмотр</td>\n",
       "    </tr>\n",
       "    <tr>\n",
       "      <th>1</th>\n",
       "      <td>the one event that Pliny is famous for actuall...</td>\n",
       "      <td>№1 ЛСВ 1 осмотр</td>\n",
       "    </tr>\n",
       "    <tr>\n",
       "      <th>2</th>\n",
       "      <td>In an unprecedented legal move, Mr Justice Hod...</td>\n",
       "      <td>№1 ЛСВ 1 осмотр</td>\n",
       "    </tr>\n",
       "    <tr>\n",
       "      <th>3</th>\n",
       "      <td>Doctor Kagawa upped his estimate of latency to...</td>\n",
       "      <td>№1 ЛСВ 1 осмотр</td>\n",
       "    </tr>\n",
       "    <tr>\n",
       "      <th>4</th>\n",
       "      <td>and suddenly Eva was above the park and Zozobr...</td>\n",
       "      <td>№1 ЛСВ 1 осмотр</td>\n",
       "    </tr>\n",
       "  </tbody>\n",
       "</table>\n",
       "</div>"
      ],
      "text/plain": [
       "                                             example         category\n",
       "0  But when we reached Shanghai, I felt so terrif...  №1 ЛСВ 1 осмотр\n",
       "1  the one event that Pliny is famous for actuall...  №1 ЛСВ 1 осмотр\n",
       "2  In an unprecedented legal move, Mr Justice Hod...  №1 ЛСВ 1 осмотр\n",
       "3  Doctor Kagawa upped his estimate of latency to...  №1 ЛСВ 1 осмотр\n",
       "4  and suddenly Eva was above the park and Zozobr...  №1 ЛСВ 1 осмотр"
      ]
     },
     "execution_count": 7,
     "metadata": {},
     "output_type": "execute_result"
    }
   ],
   "source": [
    "data.head()"
   ]
  },
  {
   "cell_type": "code",
   "execution_count": 8,
   "id": "71f81c6c",
   "metadata": {},
   "outputs": [],
   "source": [
    "data['example'] = data['example'].apply(text_preprocessor)"
   ]
  },
  {
   "cell_type": "code",
   "execution_count": 9,
   "id": "2910c0bf",
   "metadata": {},
   "outputs": [
    {
     "data": {
      "text/html": [
       "<div>\n",
       "<style scoped>\n",
       "    .dataframe tbody tr th:only-of-type {\n",
       "        vertical-align: middle;\n",
       "    }\n",
       "\n",
       "    .dataframe tbody tr th {\n",
       "        vertical-align: top;\n",
       "    }\n",
       "\n",
       "    .dataframe thead th {\n",
       "        text-align: right;\n",
       "    }\n",
       "</style>\n",
       "<table border=\"1\" class=\"dataframe\">\n",
       "  <thead>\n",
       "    <tr style=\"text-align: right;\">\n",
       "      <th></th>\n",
       "      <th>example</th>\n",
       "      <th>category</th>\n",
       "    </tr>\n",
       "  </thead>\n",
       "  <tbody>\n",
       "    <tr>\n",
       "      <th>0</th>\n",
       "      <td>but when we reach Shanghai , I feel so terrifi...</td>\n",
       "      <td>№1 ЛСВ 1 осмотр</td>\n",
       "    </tr>\n",
       "    <tr>\n",
       "      <th>1</th>\n",
       "      <td>the one event that Pliny be famous for actuall...</td>\n",
       "      <td>№1 ЛСВ 1 осмотр</td>\n",
       "    </tr>\n",
       "    <tr>\n",
       "      <th>2</th>\n",
       "      <td>in an unprecedented legal move , Mr Justice Ho...</td>\n",
       "      <td>№1 ЛСВ 1 осмотр</td>\n",
       "    </tr>\n",
       "    <tr>\n",
       "      <th>3</th>\n",
       "      <td>Doctor Kagawa up his estimate of latency to 7 ...</td>\n",
       "      <td>№1 ЛСВ 1 осмотр</td>\n",
       "    </tr>\n",
       "    <tr>\n",
       "      <th>4</th>\n",
       "      <td>and suddenly Eva be above the park and Zozobra...</td>\n",
       "      <td>№1 ЛСВ 1 осмотр</td>\n",
       "    </tr>\n",
       "  </tbody>\n",
       "</table>\n",
       "</div>"
      ],
      "text/plain": [
       "                                             example         category\n",
       "0  but when we reach Shanghai , I feel so terrifi...  №1 ЛСВ 1 осмотр\n",
       "1  the one event that Pliny be famous for actuall...  №1 ЛСВ 1 осмотр\n",
       "2  in an unprecedented legal move , Mr Justice Ho...  №1 ЛСВ 1 осмотр\n",
       "3  Doctor Kagawa up his estimate of latency to 7 ...  №1 ЛСВ 1 осмотр\n",
       "4  and suddenly Eva be above the park and Zozobra...  №1 ЛСВ 1 осмотр"
      ]
     },
     "execution_count": 9,
     "metadata": {},
     "output_type": "execute_result"
    }
   ],
   "source": [
    "data.head()"
   ]
  },
  {
   "cell_type": "code",
   "execution_count": 11,
   "id": "b9b029ed",
   "metadata": {},
   "outputs": [],
   "source": [
    "train, test = train_test_split(data, test_size=0.3, stratify=data['category'])"
   ]
  },
  {
   "cell_type": "code",
   "execution_count": 13,
   "id": "95cf1423",
   "metadata": {},
   "outputs": [
    {
     "name": "stdout",
     "output_type": "stream",
     "text": [
      "category\n",
      "№1 ЛСВ 1 осмотр            70\n",
      "№10 ЛСВ 4.2                 9\n",
      "№2 ЛСВ 1.1 просмотр        41\n",
      "№3 ЛСВ 2 обзор           1349\n",
      "№4 ЛСВ 3 вид               57\n",
      "№5 ЛСВ 3.1 пейзаж        1156\n",
      "№6 ЛСВ 3.2 картинка       191\n",
      "№7 ЛСВ 3.4 ракурс          81\n",
      "№8 ЛСВ 4 точка зрения    2093\n",
      "№9 ЛСВ 4.1                 21\n",
      "Name: category, dtype: int64\n"
     ]
    }
   ],
   "source": [
    "df_train = train.groupby(['category'])['category'].count()\n",
    "print(df_train)"
   ]
  },
  {
   "cell_type": "code",
   "execution_count": 14,
   "id": "6e9dbc25",
   "metadata": {},
   "outputs": [
    {
     "name": "stdout",
     "output_type": "stream",
     "text": [
      "category\n",
      "№1 ЛСВ 1 осмотр           30\n",
      "№10 ЛСВ 4.2                4\n",
      "№2 ЛСВ 1.1 просмотр       17\n",
      "№3 ЛСВ 2 обзор           578\n",
      "№4 ЛСВ 3 вид              25\n",
      "№5 ЛСВ 3.1 пейзаж        496\n",
      "№6 ЛСВ 3.2 картинка       82\n",
      "№7 ЛСВ 3.4 ракурс         35\n",
      "№8 ЛСВ 4 точка зрения    897\n",
      "№9 ЛСВ 4.1                 9\n",
      "Name: category, dtype: int64\n"
     ]
    }
   ],
   "source": [
    "df_test = test.groupby(['category'])['category'].count()\n",
    "print(df_test)"
   ]
  },
  {
   "cell_type": "code",
   "execution_count": 16,
   "id": "8b75f91e",
   "metadata": {},
   "outputs": [],
   "source": [
    "train_X = train['example']\n",
    "train_y = train['category']\n",
    "test_X = test['example']\n",
    "test_y = test['category']"
   ]
  },
  {
   "cell_type": "code",
   "execution_count": 17,
   "id": "4429c100",
   "metadata": {},
   "outputs": [],
   "source": [
    "classification_pipeline = Pipeline(steps=[\n",
    "    ('count_vectorizer', CountVectorizer()),\n",
    "    ('naive_bayes_classifier', MultinomialNB())\n",
    "])"
   ]
  },
  {
   "cell_type": "code",
   "execution_count": 19,
   "id": "355dfccd",
   "metadata": {},
   "outputs": [
    {
     "name": "stdout",
     "output_type": "stream",
     "text": [
      "train time: 0.200s\n"
     ]
    }
   ],
   "source": [
    "from time import time\n",
    "t = time()\n",
    "classification_pipeline.fit(train_X, train_y)\n",
    "training_time = time() - t\n",
    "print(\"train time: %0.3fs\" % training_time)"
   ]
  },
  {
   "cell_type": "code",
   "execution_count": 20,
   "id": "7333b7cc",
   "metadata": {},
   "outputs": [],
   "source": [
    "y_pred = classification_pipeline.predict(test_X)"
   ]
  },
  {
   "cell_type": "code",
   "execution_count": 21,
   "id": "d56961cd",
   "metadata": {},
   "outputs": [
    {
     "name": "stdout",
     "output_type": "stream",
     "text": [
      "                       precision    recall  f1-score   support\n",
      "\n",
      "      №1 ЛСВ 1 осмотр       0.00      0.00      0.00         0\n",
      "          №10 ЛСВ 4.2       0.00      0.00      0.00         0\n",
      "  №2 ЛСВ 1.1 просмотр       0.00      0.00      0.00         0\n",
      "       №3 ЛСВ 2 обзор       0.77      0.70      0.73       634\n",
      "         №4 ЛСВ 3 вид       0.00      0.00      0.00         0\n",
      "    №5 ЛСВ 3.1 пейзаж       0.69      0.71      0.70       485\n",
      "  №6 ЛСВ 3.2 картинка       0.00      0.00      0.00         0\n",
      "    №7 ЛСВ 3.4 ракурс       0.00      0.00      0.00         0\n",
      "№8 ЛСВ 4 точка зрения       0.95      0.81      0.87      1054\n",
      "           №9 ЛСВ 4.1       0.00      0.00      0.00         0\n",
      "\n",
      "             accuracy                           0.75      2173\n",
      "            macro avg       0.24      0.22      0.23      2173\n",
      "         weighted avg       0.84      0.75      0.79      2173\n",
      "\n"
     ]
    },
    {
     "name": "stderr",
     "output_type": "stream",
     "text": [
      "C:\\ProgramData\\anaconda3\\Lib\\site-packages\\sklearn\\metrics\\_classification.py:1469: UndefinedMetricWarning: Recall and F-score are ill-defined and being set to 0.0 in labels with no true samples. Use `zero_division` parameter to control this behavior.\n",
      "  _warn_prf(average, modifier, msg_start, len(result))\n",
      "C:\\ProgramData\\anaconda3\\Lib\\site-packages\\sklearn\\metrics\\_classification.py:1469: UndefinedMetricWarning: Recall and F-score are ill-defined and being set to 0.0 in labels with no true samples. Use `zero_division` parameter to control this behavior.\n",
      "  _warn_prf(average, modifier, msg_start, len(result))\n",
      "C:\\ProgramData\\anaconda3\\Lib\\site-packages\\sklearn\\metrics\\_classification.py:1469: UndefinedMetricWarning: Recall and F-score are ill-defined and being set to 0.0 in labels with no true samples. Use `zero_division` parameter to control this behavior.\n",
      "  _warn_prf(average, modifier, msg_start, len(result))\n"
     ]
    }
   ],
   "source": [
    "print(classification_report(y_pred, test_y))"
   ]
  },
  {
   "cell_type": "code",
   "execution_count": 22,
   "id": "a57822a1",
   "metadata": {},
   "outputs": [],
   "source": [
    "filename = 'MultinominalNB + lemmatization'"
   ]
  },
  {
   "cell_type": "code",
   "execution_count": 23,
   "id": "5220a48a",
   "metadata": {},
   "outputs": [],
   "source": [
    "with open(f'{filename}.bin', 'wb') as output_stream:\n",
    "    pickle.dump(classification_pipeline, output_stream)"
   ]
  }
 ],
 "metadata": {
  "kernelspec": {
   "display_name": "Python 3 (ipykernel)",
   "language": "python",
   "name": "python3"
  },
  "language_info": {
   "codemirror_mode": {
    "name": "ipython",
    "version": 3
   },
   "file_extension": ".py",
   "mimetype": "text/x-python",
   "name": "python",
   "nbconvert_exporter": "python",
   "pygments_lexer": "ipython3",
   "version": "3.11.4"
  }
 },
 "nbformat": 4,
 "nbformat_minor": 5
}
