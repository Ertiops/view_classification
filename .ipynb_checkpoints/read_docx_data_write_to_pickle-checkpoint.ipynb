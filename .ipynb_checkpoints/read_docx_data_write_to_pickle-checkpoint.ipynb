{
 "cells": [
  {
   "cell_type": "code",
   "execution_count": 2,
   "id": "d7706afd",
   "metadata": {},
   "outputs": [],
   "source": [
    "import os\n",
    "import docx\n",
    "import pandas\n",
    "import spacy\n",
    "import pickle"
   ]
  },
  {
   "cell_type": "code",
   "execution_count": 6,
   "id": "09333c04",
   "metadata": {},
   "outputs": [
    {
     "data": {
      "text/plain": [
       "['C:\\\\bionalizer\\\\view_classification\\\\raw_data\\\\папки по значениям\\\\№1 ЛСВ 1 осмотр.docx',\n",
       " 'C:\\\\bionalizer\\\\view_classification\\\\raw_data\\\\папки по значениям\\\\№10 ЛСВ 4.2.docx',\n",
       " 'C:\\\\bionalizer\\\\view_classification\\\\raw_data\\\\папки по значениям\\\\№2 ЛСВ 1.1 просмотр.docx',\n",
       " 'C:\\\\bionalizer\\\\view_classification\\\\raw_data\\\\папки по значениям\\\\№3 ЛСВ 2 обзор.docx',\n",
       " 'C:\\\\bionalizer\\\\view_classification\\\\raw_data\\\\папки по значениям\\\\№4 ЛСВ 3 вид.docx',\n",
       " 'C:\\\\bionalizer\\\\view_classification\\\\raw_data\\\\папки по значениям\\\\№5 ЛСВ 3.1 пейзаж.docx',\n",
       " 'C:\\\\bionalizer\\\\view_classification\\\\raw_data\\\\папки по значениям\\\\№6 ЛСВ 3.2 картинка.docx',\n",
       " 'C:\\\\bionalizer\\\\view_classification\\\\raw_data\\\\папки по значениям\\\\№7 ЛСВ 3.4 ракурс.docx',\n",
       " 'C:\\\\bionalizer\\\\view_classification\\\\raw_data\\\\папки по значениям\\\\№8 ЛСВ 4 точка зрения.docx',\n",
       " 'C:\\\\bionalizer\\\\view_classification\\\\raw_data\\\\папки по значениям\\\\№9 ЛСВ 4.1.docx']"
      ]
     },
     "execution_count": 6,
     "metadata": {},
     "output_type": "execute_result"
    }
   ],
   "source": [
    "paths = []\n",
    "folder = os.getcwd() + '\\\\raw_data\\\\папки по значениям'\n",
    "for root, dirs, files in os.walk(folder):\n",
    "    for file in files:\n",
    "        if file.endswith('docx') and not file.startswith('~'):\n",
    "            paths.append(os.path.join(root, file))\n",
    "paths"
   ]
  },
  {
   "cell_type": "code",
   "execution_count": 10,
   "id": "ee469db5",
   "metadata": {},
   "outputs": [
    {
     "data": {
      "text/plain": [
       "['№1 ЛСВ 1 осмотр',\n",
       " '№10 ЛСВ 4.2',\n",
       " '№2 ЛСВ 1.1 просмотр',\n",
       " '№3 ЛСВ 2 обзор',\n",
       " '№4 ЛСВ 3 вид',\n",
       " '№5 ЛСВ 3.1 пейзаж',\n",
       " '№6 ЛСВ 3.2 картинка',\n",
       " '№7 ЛСВ 3.4 ракурс',\n",
       " '№8 ЛСВ 4 точка зрения',\n",
       " '№9 ЛСВ 4.1']"
      ]
     },
     "execution_count": 10,
     "metadata": {},
     "output_type": "execute_result"
    }
   ],
   "source": [
    "titles = []\n",
    "\n",
    "for i in paths:\n",
    "    titles.append(i[62:-5])\n",
    "    \n",
    "titles"
   ]
  },
  {
   "cell_type": "code",
   "execution_count": 11,
   "id": "675216e0",
   "metadata": {},
   "outputs": [],
   "source": [
    "examples = {'example': [], 'category': []}\n",
    "\n",
    "for path in paths:\n",
    "    doc = docx.Document(path)\n",
    "    all_paras = doc.paragraphs\n",
    "    for para in all_paras:\n",
    "        examples['example'].append(para.text)\n",
    "        examples['category'].append(path[62:-5])"
   ]
  },
  {
   "cell_type": "code",
   "execution_count": 17,
   "id": "f12ca93c",
   "metadata": {},
   "outputs": [],
   "source": [
    "raw_data = pandas.DataFrame.from_dict(examples)"
   ]
  },
  {
   "cell_type": "code",
   "execution_count": 19,
   "id": "30f0c890",
   "metadata": {},
   "outputs": [
    {
     "data": {
      "text/html": [
       "<div>\n",
       "<style scoped>\n",
       "    .dataframe tbody tr th:only-of-type {\n",
       "        vertical-align: middle;\n",
       "    }\n",
       "\n",
       "    .dataframe tbody tr th {\n",
       "        vertical-align: top;\n",
       "    }\n",
       "\n",
       "    .dataframe thead th {\n",
       "        text-align: right;\n",
       "    }\n",
       "</style>\n",
       "<table border=\"1\" class=\"dataframe\">\n",
       "  <thead>\n",
       "    <tr style=\"text-align: right;\">\n",
       "      <th></th>\n",
       "      <th>example</th>\n",
       "      <th>category</th>\n",
       "    </tr>\n",
       "  </thead>\n",
       "  <tbody>\n",
       "    <tr>\n",
       "      <th>7236</th>\n",
       "      <td>In fact, that afternoon, Miranda had been worr...</td>\n",
       "      <td>№9 ЛСВ 4.1</td>\n",
       "    </tr>\n",
       "    <tr>\n",
       "      <th>7237</th>\n",
       "      <td>Parents reading this book with a view to helpi...</td>\n",
       "      <td>№9 ЛСВ 4.1</td>\n",
       "    </tr>\n",
       "    <tr>\n",
       "      <th>7238</th>\n",
       "      <td>Locations awesome tested recipes with a view t...</td>\n",
       "      <td>№9 ЛСВ 4.1</td>\n",
       "    </tr>\n",
       "    <tr>\n",
       "      <th>7239</th>\n",
       "      <td>This was to gather under the very roof of Darl...</td>\n",
       "      <td>№9 ЛСВ 4.1</td>\n",
       "    </tr>\n",
       "    <tr>\n",
       "      <th>7240</th>\n",
       "      <td>In doing so, police departments must examine t...</td>\n",
       "      <td>№9 ЛСВ 4.1</td>\n",
       "    </tr>\n",
       "  </tbody>\n",
       "</table>\n",
       "</div>"
      ],
      "text/plain": [
       "                                                example    category\n",
       "7236  In fact, that afternoon, Miranda had been worr...  №9 ЛСВ 4.1\n",
       "7237  Parents reading this book with a view to helpi...  №9 ЛСВ 4.1\n",
       "7238  Locations awesome tested recipes with a view t...  №9 ЛСВ 4.1\n",
       "7239  This was to gather under the very roof of Darl...  №9 ЛСВ 4.1\n",
       "7240  In doing so, police departments must examine t...  №9 ЛСВ 4.1"
      ]
     },
     "execution_count": 19,
     "metadata": {},
     "output_type": "execute_result"
    }
   ],
   "source": [
    "raw_data.tail()"
   ]
  },
  {
   "cell_type": "code",
   "execution_count": 21,
   "id": "7360510f",
   "metadata": {},
   "outputs": [
    {
     "name": "stdout",
     "output_type": "stream",
     "text": [
      "                category  example_count\n",
      "0        №1 ЛСВ 1 осмотр            100\n",
      "1            №10 ЛСВ 4.2             13\n",
      "2    №2 ЛСВ 1.1 просмотр             58\n",
      "3         №3 ЛСВ 2 обзор           1927\n",
      "4           №4 ЛСВ 3 вид             82\n",
      "5      №5 ЛСВ 3.1 пейзаж           1652\n",
      "6    №6 ЛСВ 3.2 картинка            273\n",
      "7      №7 ЛСВ 3.4 ракурс            116\n",
      "8  №8 ЛСВ 4 точка зрения           2990\n",
      "9             №9 ЛСВ 4.1             30\n"
     ]
    }
   ],
   "source": [
    "category_counts = raw_data.groupby('category')['example'].count().reset_index()\n",
    "category_counts = category_counts.rename(columns={'example': 'example_count'})\n",
    "print(category_counts)"
   ]
  },
  {
   "cell_type": "code",
   "execution_count": 22,
   "id": "d0a986ed",
   "metadata": {},
   "outputs": [],
   "source": [
    "with open('dataset_raw.pickle', 'wb') as handle:\n",
    "    pickle.dump(examples, handle, protocol=pickle.HIGHEST_PROTOCOL)"
   ]
  }
 ],
 "metadata": {
  "kernelspec": {
   "display_name": "Python 3 (ipykernel)",
   "language": "python",
   "name": "python3"
  },
  "language_info": {
   "codemirror_mode": {
    "name": "ipython",
    "version": 3
   },
   "file_extension": ".py",
   "mimetype": "text/x-python",
   "name": "python",
   "nbconvert_exporter": "python",
   "pygments_lexer": "ipython3",
   "version": "3.11.4"
  }
 },
 "nbformat": 4,
 "nbformat_minor": 5
}
